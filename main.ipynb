{
 "cells": [
  {
   "cell_type": "code",
   "execution_count": 1,
   "metadata": {},
   "outputs": [],
   "source": [
    "from sklearn.feature_extraction.text import TfidfVectorizer\n",
    "from sklearn.model_selection import train_test_split, cross_val_score\n",
    "from sklearn.svm import SVC\n",
    "from sklearn.metrics import classification_report\n",
    "\n",
    "# Handle Emoji\n",
    "import nltk\n",
    "import demoji\n",
    "import unicodedata as uni\n",
    "import re\n",
    "import pandas as pd\n",
    "import numpy as np\n",
    "\n",
    "from textblob import TextBlob\n",
    "from nltk.tokenize import word_tokenize\n",
    "from nltk.corpus import stopwords\n",
    "\n",
    "from tqdm import tqdm\n",
    "\n",
    "# Inisialisasi progress bar dengan jumlah total data\n",
    "tqdm.pandas()"
   ]
  },
  {
   "cell_type": "code",
   "execution_count": 2,
   "metadata": {},
   "outputs": [],
   "source": [
    "df = pd.read_csv('dataset/b.csv', encoding=\"latin-1\")\n",
    "reviews = df.Review"
   ]
  },
  {
   "cell_type": "code",
   "execution_count": 3,
   "metadata": {},
   "outputs": [],
   "source": [
    "def preprocess(text):\n",
    "    # Text normalization\n",
    "    contractions = {\n",
    "        \"isn't\": \"is not\",\n",
    "        \"aren't\": \"are not\",\n",
    "        \"wasn't\": \"was not\",\n",
    "        \"weren't\": \"were not\",\n",
    "        \"haven't\": \"have not\",\n",
    "        \"hasn't\": \"has not\",\n",
    "        \"hadn't\": \"had not\",\n",
    "        \"won't\": \"will not\",\n",
    "        \"wouldn't\": \"would not\",\n",
    "        \"don't\": \"do not\",\n",
    "        \"doesn't\": \"does not\",\n",
    "        \"didn't\": \"did not\",\n",
    "        \"can't\": \"can not\",\n",
    "        \"couldn't\": \"could not\",\n",
    "        \"shouldn't\": \"should not\",\n",
    "        \"mightn't\": \"might not\",\n",
    "        \"mustn't\": \"must not\",\n",
    "        \"I'm\": \"I am\",\n",
    "        \"You're\": \"you are\",\n",
    "        \"I've\": \"I have\",\n",
    "        \"UI\": \"user interface\",\n",
    "        \"UX\": \"user experience\",\n",
    "        \"u\": \"you\",\n",
    "    }\n",
    "    pattern = re.compile(r'\\b(' + '|'.join(contractions.keys()) + r')\\b')\n",
    "    expanded_text = pattern.sub(lambda match: contractions[match.group(0)], text)\n",
    "\n",
    "    normalized_text = uni.normalize('NFKD', expanded_text)\n",
    "    normalized_text = ''.join([c for c in normalized_text if not uni.combining(c)])\n",
    "\n",
    "    # emoji encoding\n",
    "    emojis = demoji.findall(text)\n",
    "\n",
    "    for emoji in emojis:\n",
    "        text = text.replace(emoji, \" \" + emojis[emoji].split(\":\")[0])\n",
    "\n",
    "    # text preprocessing\n",
    "    teks = re.sub(r'[^a-zA-Z0-9\\s]', '', text)\n",
    "    teks = teks.lower()\n",
    "    stop_words = set(stopwords.words('english'))\n",
    "    stop_words.update(['also', 'app', 'apps', 'application', 'applications', 'good'])\n",
    "    stop_words.remove('not')\n",
    "    tokens = word_tokenize(teks)\n",
    "    filtered_tokens = [word for word in tokens if word.isalnum() and not any(char.isdigit() for char in word) and word not in stop_words]\n",
    "    lemmatizer = nltk.WordNetLemmatizer()\n",
    "    lemma = [lemmatizer.lemmatize(word) for word in filtered_tokens]\n",
    "    clean_reviews = ' '.join(lemma)\n",
    "\n",
    "    return clean_reviews"
   ]
  },
  {
   "cell_type": "code",
   "execution_count": 4,
   "metadata": {},
   "outputs": [
    {
     "name": "stderr",
     "output_type": "stream",
     "text": [
      "100%|██████████| 20491/20491 [03:46<00:00, 90.42it/s] \n"
     ]
    }
   ],
   "source": [
    "preprocess_rev = reviews.progress_apply(preprocess)\n",
    "preprocess_rev = pd.DataFrame(preprocess_rev)"
   ]
  },
  {
   "cell_type": "code",
   "execution_count": 5,
   "metadata": {},
   "outputs": [],
   "source": [
    "# preprocess_rev.to_csv('dataset/preproces_rev.csv', index=False)"
   ]
  },
  {
   "cell_type": "code",
   "execution_count": 6,
   "metadata": {},
   "outputs": [
    {
     "data": {
      "text/html": [
       "<div>\n",
       "<style scoped>\n",
       "    .dataframe tbody tr th:only-of-type {\n",
       "        vertical-align: middle;\n",
       "    }\n",
       "\n",
       "    .dataframe tbody tr th {\n",
       "        vertical-align: top;\n",
       "    }\n",
       "\n",
       "    .dataframe thead th {\n",
       "        text-align: right;\n",
       "    }\n",
       "</style>\n",
       "<table border=\"1\" class=\"dataframe\">\n",
       "  <thead>\n",
       "    <tr style=\"text-align: right;\">\n",
       "      <th></th>\n",
       "      <th>Review</th>\n",
       "    </tr>\n",
       "  </thead>\n",
       "  <tbody>\n",
       "    <tr>\n",
       "      <th>0</th>\n",
       "      <td>nice hotel expensive parking got deal stay hot...</td>\n",
       "    </tr>\n",
       "    <tr>\n",
       "      <th>1</th>\n",
       "      <td>ok nothing special charge diamond member hilto...</td>\n",
       "    </tr>\n",
       "    <tr>\n",
       "      <th>2</th>\n",
       "      <td>nice room not experience hotel monaco seattle ...</td>\n",
       "    </tr>\n",
       "    <tr>\n",
       "      <th>3</th>\n",
       "      <td>unique great stay wonderful time hotel monaco ...</td>\n",
       "    </tr>\n",
       "    <tr>\n",
       "      <th>4</th>\n",
       "      <td>great stay great stay went seahawk game awesom...</td>\n",
       "    </tr>\n",
       "    <tr>\n",
       "      <th>...</th>\n",
       "      <td>...</td>\n",
       "    </tr>\n",
       "    <tr>\n",
       "      <th>20486</th>\n",
       "      <td>best kept secret time staying charm not ca nt ...</td>\n",
       "    </tr>\n",
       "    <tr>\n",
       "      <th>20487</th>\n",
       "      <td>great location price view hotel great quick pl...</td>\n",
       "    </tr>\n",
       "    <tr>\n",
       "      <th>20488</th>\n",
       "      <td>ok look nice modern outside desk staff nt part...</td>\n",
       "    </tr>\n",
       "    <tr>\n",
       "      <th>20489</th>\n",
       "      <td>hotel theft ruined vacation hotel opened sept ...</td>\n",
       "    </tr>\n",
       "    <tr>\n",
       "      <th>20490</th>\n",
       "      <td>people talking ca nt believe excellent rating ...</td>\n",
       "    </tr>\n",
       "  </tbody>\n",
       "</table>\n",
       "<p>20491 rows × 1 columns</p>\n",
       "</div>"
      ],
      "text/plain": [
       "                                                  Review\n",
       "0      nice hotel expensive parking got deal stay hot...\n",
       "1      ok nothing special charge diamond member hilto...\n",
       "2      nice room not experience hotel monaco seattle ...\n",
       "3      unique great stay wonderful time hotel monaco ...\n",
       "4      great stay great stay went seahawk game awesom...\n",
       "...                                                  ...\n",
       "20486  best kept secret time staying charm not ca nt ...\n",
       "20487  great location price view hotel great quick pl...\n",
       "20488  ok look nice modern outside desk staff nt part...\n",
       "20489  hotel theft ruined vacation hotel opened sept ...\n",
       "20490  people talking ca nt believe excellent rating ...\n",
       "\n",
       "[20491 rows x 1 columns]"
      ]
     },
     "execution_count": 6,
     "metadata": {},
     "output_type": "execute_result"
    }
   ],
   "source": [
    "preprocess_rev"
   ]
  },
  {
   "cell_type": "code",
   "execution_count": 7,
   "metadata": {},
   "outputs": [
    {
     "name": "stderr",
     "output_type": "stream",
     "text": [
      "100%|██████████| 20491/20491 [00:30<00:00, 665.59it/s]\n"
     ]
    },
    {
     "data": {
      "text/html": [
       "<div>\n",
       "<style scoped>\n",
       "    .dataframe tbody tr th:only-of-type {\n",
       "        vertical-align: middle;\n",
       "    }\n",
       "\n",
       "    .dataframe tbody tr th {\n",
       "        vertical-align: top;\n",
       "    }\n",
       "\n",
       "    .dataframe thead th {\n",
       "        text-align: right;\n",
       "    }\n",
       "</style>\n",
       "<table border=\"1\" class=\"dataframe\">\n",
       "  <thead>\n",
       "    <tr style=\"text-align: right;\">\n",
       "      <th></th>\n",
       "      <th>Review</th>\n",
       "      <th>Sentiment Score</th>\n",
       "      <th>Label</th>\n",
       "    </tr>\n",
       "  </thead>\n",
       "  <tbody>\n",
       "    <tr>\n",
       "      <th>0</th>\n",
       "      <td>nice hotel expensive parking got deal stay hot...</td>\n",
       "      <td>0.182888</td>\n",
       "      <td>Positive</td>\n",
       "    </tr>\n",
       "    <tr>\n",
       "      <th>1</th>\n",
       "      <td>ok nothing special charge diamond member hilto...</td>\n",
       "      <td>0.166198</td>\n",
       "      <td>Positive</td>\n",
       "    </tr>\n",
       "    <tr>\n",
       "      <th>2</th>\n",
       "      <td>nice room not experience hotel monaco seattle ...</td>\n",
       "      <td>0.281336</td>\n",
       "      <td>Positive</td>\n",
       "    </tr>\n",
       "    <tr>\n",
       "      <th>3</th>\n",
       "      <td>unique great stay wonderful time hotel monaco ...</td>\n",
       "      <td>0.504825</td>\n",
       "      <td>Positive</td>\n",
       "    </tr>\n",
       "    <tr>\n",
       "      <th>4</th>\n",
       "      <td>great stay great stay went seahawk game awesom...</td>\n",
       "      <td>0.377778</td>\n",
       "      <td>Positive</td>\n",
       "    </tr>\n",
       "    <tr>\n",
       "      <th>...</th>\n",
       "      <td>...</td>\n",
       "      <td>...</td>\n",
       "      <td>...</td>\n",
       "    </tr>\n",
       "    <tr>\n",
       "      <th>20486</th>\n",
       "      <td>best kept secret time staying charm not ca nt ...</td>\n",
       "      <td>0.232287</td>\n",
       "      <td>Positive</td>\n",
       "    </tr>\n",
       "    <tr>\n",
       "      <th>20487</th>\n",
       "      <td>great location price view hotel great quick pl...</td>\n",
       "      <td>0.503704</td>\n",
       "      <td>Positive</td>\n",
       "    </tr>\n",
       "    <tr>\n",
       "      <th>20488</th>\n",
       "      <td>ok look nice modern outside desk staff nt part...</td>\n",
       "      <td>0.130544</td>\n",
       "      <td>Positive</td>\n",
       "    </tr>\n",
       "    <tr>\n",
       "      <th>20489</th>\n",
       "      <td>hotel theft ruined vacation hotel opened sept ...</td>\n",
       "      <td>0.118633</td>\n",
       "      <td>Positive</td>\n",
       "    </tr>\n",
       "    <tr>\n",
       "      <th>20490</th>\n",
       "      <td>people talking ca nt believe excellent rating ...</td>\n",
       "      <td>0.110615</td>\n",
       "      <td>Positive</td>\n",
       "    </tr>\n",
       "  </tbody>\n",
       "</table>\n",
       "<p>20491 rows × 3 columns</p>\n",
       "</div>"
      ],
      "text/plain": [
       "                                                  Review  Sentiment Score  \\\n",
       "0      nice hotel expensive parking got deal stay hot...         0.182888   \n",
       "1      ok nothing special charge diamond member hilto...         0.166198   \n",
       "2      nice room not experience hotel monaco seattle ...         0.281336   \n",
       "3      unique great stay wonderful time hotel monaco ...         0.504825   \n",
       "4      great stay great stay went seahawk game awesom...         0.377778   \n",
       "...                                                  ...              ...   \n",
       "20486  best kept secret time staying charm not ca nt ...         0.232287   \n",
       "20487  great location price view hotel great quick pl...         0.503704   \n",
       "20488  ok look nice modern outside desk staff nt part...         0.130544   \n",
       "20489  hotel theft ruined vacation hotel opened sept ...         0.118633   \n",
       "20490  people talking ca nt believe excellent rating ...         0.110615   \n",
       "\n",
       "          Label  \n",
       "0      Positive  \n",
       "1      Positive  \n",
       "2      Positive  \n",
       "3      Positive  \n",
       "4      Positive  \n",
       "...         ...  \n",
       "20486  Positive  \n",
       "20487  Positive  \n",
       "20488  Positive  \n",
       "20489  Positive  \n",
       "20490  Positive  \n",
       "\n",
       "[20491 rows x 3 columns]"
      ]
     },
     "execution_count": 7,
     "metadata": {},
     "output_type": "execute_result"
    }
   ],
   "source": [
    "# Sentiment Analysis using textblob\n",
    "def analyze_sentiment(text):\n",
    "    blob = TextBlob(text)\n",
    "    sentiment_score = blob.sentiment.polarity\n",
    "    # Sentiment Label\n",
    "    if sentiment_score > 0:\n",
    "        label = \"Positive\"\n",
    "    else:\n",
    "        label = \"Negative\"\n",
    "    # elif sentiment_score < 0:\n",
    "    #     label = \"Negative\"\n",
    "    # else:\n",
    "    #     label = \"Neutral\"\n",
    "    return sentiment_score, label\n",
    "# Apply sentiment analysis textblob\n",
    "preprocess_rev[['Sentiment Score', 'Label']] = preprocess_rev['Review'].progress_apply(lambda x: pd.Series(analyze_sentiment(x)))\n",
    "preprocess_rev"
   ]
  },
  {
   "cell_type": "code",
   "execution_count": 8,
   "metadata": {},
   "outputs": [],
   "source": [
    "# Inisialisasi TF-IDF Vectorizer\n",
    "tfidf_vectorizer = TfidfVectorizer(max_features=1000)\n",
    "\n",
    "# Vektorisasi teks latih dan uji\n",
    "X = tfidf_vectorizer.fit_transform(preprocess_rev['Review'])\n",
    "y = preprocess_rev['Label']\n",
    "# Membagi data menjadi data latih, validasi, dan pengujian\n",
    "X_train, X_test, y_train, y_test = train_test_split(X, y, test_size=0.2, random_state=42) # 80% train, 20% test\n",
    "# Latih model SVM\n",
    "svm_classifier = SVC(kernel='linear')"
   ]
  },
  {
   "cell_type": "code",
   "execution_count": 9,
   "metadata": {},
   "outputs": [
    {
     "name": "stdout",
     "output_type": "stream",
     "text": [
      "Cross-validation scores: [0.95242452 0.95547423 0.95149481 0.95424039 0.95485052]\n"
     ]
    }
   ],
   "source": [
    "# Validasi silang dengan 5 lipatan (k-fold cross-validation)\n",
    "cv_scores = cross_val_score(svm_classifier, X_train, y_train, cv=5)\n",
    "print(\"Cross-validation scores:\", cv_scores)"
   ]
  },
  {
   "cell_type": "code",
   "execution_count": 10,
   "metadata": {},
   "outputs": [],
   "source": [
    "svm_classifier.fit(X_train, y_train)\n",
    "# Menguji model pada data pengujian\n",
    "y_pred = svm_classifier.predict(X_test)"
   ]
  },
  {
   "cell_type": "code",
   "execution_count": 11,
   "metadata": {},
   "outputs": [
    {
     "name": "stdout",
     "output_type": "stream",
     "text": [
      "Accuracy on test set:               precision    recall  f1-score   support\n",
      "\n",
      "    Negative       0.80      0.53      0.64       317\n",
      "    Positive       0.96      0.99      0.98      3782\n",
      "\n",
      "    accuracy                           0.95      4099\n",
      "   macro avg       0.88      0.76      0.81      4099\n",
      "weighted avg       0.95      0.95      0.95      4099\n",
      "\n"
     ]
    }
   ],
   "source": [
    "test_accuracy = classification_report(y_test, y_pred)\n",
    "print(\"Accuracy on test set:\", test_accuracy)"
   ]
  }
 ],
 "metadata": {
  "kernelspec": {
   "display_name": ".venv",
   "language": "python",
   "name": "python3"
  },
  "language_info": {
   "codemirror_mode": {
    "name": "ipython",
    "version": 3
   },
   "file_extension": ".py",
   "mimetype": "text/x-python",
   "name": "python",
   "nbconvert_exporter": "python",
   "pygments_lexer": "ipython3",
   "version": "3.11.9"
  }
 },
 "nbformat": 4,
 "nbformat_minor": 2
}
