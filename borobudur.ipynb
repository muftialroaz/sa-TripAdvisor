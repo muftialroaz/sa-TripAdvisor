{
 "cells": [
  {
   "cell_type": "markdown",
   "metadata": {},
   "source": [
    "# Dataset for Aspect-Based Sentiment Analysis and Topic Modeling on Borobudur Temple and Prambanan Temple by Dian Arianto\n",
    "https://github.com/dian9395/dataset-analisis-sentimen-berbasis-aspek-dan-pemodelan-topik"
   ]
  },
  {
   "cell_type": "code",
   "execution_count": 38,
   "metadata": {},
   "outputs": [],
   "source": [
    "import pandas as pd\n",
    "from Sastrawi.Stemmer.StemmerFactory import StemmerFactory\n",
    "from tqdm import tqdm\n",
    "import nltk\n",
    "import re\n",
    "from sklearn.feature_extraction.text import CountVectorizer\n",
    "\n",
    "from nltk.tokenize import word_tokenize\n",
    "from nltk.corpus import stopwords"
   ]
  },
  {
   "cell_type": "code",
   "execution_count": 2,
   "metadata": {},
   "outputs": [
    {
     "data": {
      "text/html": [
       "<div>\n",
       "<style scoped>\n",
       "    .dataframe tbody tr th:only-of-type {\n",
       "        vertical-align: middle;\n",
       "    }\n",
       "\n",
       "    .dataframe tbody tr th {\n",
       "        vertical-align: top;\n",
       "    }\n",
       "\n",
       "    .dataframe thead th {\n",
       "        text-align: right;\n",
       "    }\n",
       "</style>\n",
       "<table border=\"1\" class=\"dataframe\">\n",
       "  <thead>\n",
       "    <tr style=\"text-align: right;\">\n",
       "      <th></th>\n",
       "      <th>id</th>\n",
       "      <th>lokasi</th>\n",
       "      <th>text</th>\n",
       "      <th>daya_tarik</th>\n",
       "      <th>amenitas</th>\n",
       "      <th>aksesibilitas</th>\n",
       "      <th>citra</th>\n",
       "      <th>harga</th>\n",
       "      <th>sdm</th>\n",
       "    </tr>\n",
       "  </thead>\n",
       "  <tbody>\n",
       "    <tr>\n",
       "      <th>0</th>\n",
       "      <td>1.0</td>\n",
       "      <td>Candi Borobudur</td>\n",
       "      <td>peninggalan sejarah yang sudah berumur 1200 ta...</td>\n",
       "      <td>1</td>\n",
       "      <td>-</td>\n",
       "      <td>-</td>\n",
       "      <td>1</td>\n",
       "      <td>0</td>\n",
       "      <td>0</td>\n",
       "    </tr>\n",
       "    <tr>\n",
       "      <th>1</th>\n",
       "      <td>2.0</td>\n",
       "      <td>Candi Borobudur</td>\n",
       "      <td>Pertama kali bepergian selama masa pandemi. Ca...</td>\n",
       "      <td>-</td>\n",
       "      <td>1</td>\n",
       "      <td>-</td>\n",
       "      <td>1</td>\n",
       "      <td>-</td>\n",
       "      <td>1</td>\n",
       "    </tr>\n",
       "    <tr>\n",
       "      <th>2</th>\n",
       "      <td>3.0</td>\n",
       "      <td>Candi Borobudur</td>\n",
       "      <td>Candi Borobudur di Magelang, Yogyakarta adalah...</td>\n",
       "      <td>1</td>\n",
       "      <td>-</td>\n",
       "      <td>-</td>\n",
       "      <td>1</td>\n",
       "      <td>-</td>\n",
       "      <td>-</td>\n",
       "    </tr>\n",
       "    <tr>\n",
       "      <th>3</th>\n",
       "      <td>4.0</td>\n",
       "      <td>Candi Borobudur</td>\n",
       "      <td>Baru pertama kali kesini, pas sih kalau tempat...</td>\n",
       "      <td>1</td>\n",
       "      <td>-</td>\n",
       "      <td>-</td>\n",
       "      <td>-</td>\n",
       "      <td>-1</td>\n",
       "      <td>-</td>\n",
       "    </tr>\n",
       "    <tr>\n",
       "      <th>4</th>\n",
       "      <td>5.0</td>\n",
       "      <td>Candi Borobudur</td>\n",
       "      <td>candi borobudur, tempat wisata ini sudah terke...</td>\n",
       "      <td>1</td>\n",
       "      <td>1</td>\n",
       "      <td>-</td>\n",
       "      <td>1</td>\n",
       "      <td>-</td>\n",
       "      <td>-</td>\n",
       "    </tr>\n",
       "    <tr>\n",
       "      <th>...</th>\n",
       "      <td>...</td>\n",
       "      <td>...</td>\n",
       "      <td>...</td>\n",
       "      <td>...</td>\n",
       "      <td>...</td>\n",
       "      <td>...</td>\n",
       "      <td>...</td>\n",
       "      <td>...</td>\n",
       "      <td>...</td>\n",
       "    </tr>\n",
       "    <tr>\n",
       "      <th>6738</th>\n",
       "      <td>6739.0</td>\n",
       "      <td>Candi Prambanan</td>\n",
       "      <td>The place is great and probably everything you...</td>\n",
       "      <td>1</td>\n",
       "      <td>-</td>\n",
       "      <td>-</td>\n",
       "      <td>-</td>\n",
       "      <td>-1</td>\n",
       "      <td>-</td>\n",
       "    </tr>\n",
       "    <tr>\n",
       "      <th>6739</th>\n",
       "      <td>6740.0</td>\n",
       "      <td>Candi Prambanan</td>\n",
       "      <td>Prambanan or Rara Jonggrang (Javanese: ꦫꦫꦗꦺꦴꦁꦒ...</td>\n",
       "      <td>0</td>\n",
       "      <td>-</td>\n",
       "      <td>-</td>\n",
       "      <td>-</td>\n",
       "      <td>-</td>\n",
       "      <td>-</td>\n",
       "    </tr>\n",
       "    <tr>\n",
       "      <th>6740</th>\n",
       "      <td>6741.0</td>\n",
       "      <td>Candi Prambanan</td>\n",
       "      <td>This temple is not worth the price. There’s no...</td>\n",
       "      <td>-1</td>\n",
       "      <td>-</td>\n",
       "      <td>-</td>\n",
       "      <td>-1</td>\n",
       "      <td>-1</td>\n",
       "      <td>-1</td>\n",
       "    </tr>\n",
       "    <tr>\n",
       "      <th>6741</th>\n",
       "      <td>6742.0</td>\n",
       "      <td>Candi Prambanan</td>\n",
       "      <td>Prambanan temple is the largest hindu temple o...</td>\n",
       "      <td>1</td>\n",
       "      <td>-</td>\n",
       "      <td>-</td>\n",
       "      <td>-</td>\n",
       "      <td>-</td>\n",
       "      <td>-</td>\n",
       "    </tr>\n",
       "    <tr>\n",
       "      <th>6742</th>\n",
       "      <td>6743.0</td>\n",
       "      <td>Candi Prambanan</td>\n",
       "      <td>Best choice for me of the three most-famous te...</td>\n",
       "      <td>1</td>\n",
       "      <td>-</td>\n",
       "      <td>-</td>\n",
       "      <td>-</td>\n",
       "      <td>-1</td>\n",
       "      <td>-</td>\n",
       "    </tr>\n",
       "  </tbody>\n",
       "</table>\n",
       "<p>6743 rows × 9 columns</p>\n",
       "</div>"
      ],
      "text/plain": [
       "          id           lokasi  \\\n",
       "0        1.0  Candi Borobudur   \n",
       "1        2.0  Candi Borobudur   \n",
       "2        3.0  Candi Borobudur   \n",
       "3        4.0  Candi Borobudur   \n",
       "4        5.0  Candi Borobudur   \n",
       "...      ...              ...   \n",
       "6738  6739.0  Candi Prambanan   \n",
       "6739  6740.0  Candi Prambanan   \n",
       "6740  6741.0  Candi Prambanan   \n",
       "6741  6742.0  Candi Prambanan   \n",
       "6742  6743.0  Candi Prambanan   \n",
       "\n",
       "                                                   text daya_tarik amenitas  \\\n",
       "0     peninggalan sejarah yang sudah berumur 1200 ta...          1        -   \n",
       "1     Pertama kali bepergian selama masa pandemi. Ca...          -        1   \n",
       "2     Candi Borobudur di Magelang, Yogyakarta adalah...          1        -   \n",
       "3     Baru pertama kali kesini, pas sih kalau tempat...          1        -   \n",
       "4     candi borobudur, tempat wisata ini sudah terke...          1        1   \n",
       "...                                                 ...        ...      ...   \n",
       "6738  The place is great and probably everything you...          1        -   \n",
       "6739  Prambanan or Rara Jonggrang (Javanese: ꦫꦫꦗꦺꦴꦁꦒ...          0        -   \n",
       "6740  This temple is not worth the price. There’s no...         -1        -   \n",
       "6741  Prambanan temple is the largest hindu temple o...          1        -   \n",
       "6742  Best choice for me of the three most-famous te...          1        -   \n",
       "\n",
       "     aksesibilitas citra harga sdm  \n",
       "0                -     1     0   0  \n",
       "1                -     1     -   1  \n",
       "2                -     1     -   -  \n",
       "3                -     -    -1   -  \n",
       "4                -     1     -   -  \n",
       "...            ...   ...   ...  ..  \n",
       "6738             -     -    -1   -  \n",
       "6739             -     -     -   -  \n",
       "6740             -    -1    -1  -1  \n",
       "6741             -     -     -   -  \n",
       "6742             -     -    -1   -  \n",
       "\n",
       "[6743 rows x 9 columns]"
      ]
     },
     "execution_count": 2,
     "metadata": {},
     "output_type": "execute_result"
    }
   ],
   "source": [
    "df = pd.read_excel('dataset/reviews_borobudur_prambanan_TripAdvisor_GMaps_all_tesis.xlsx')\n",
    "df_clean = df.dropna()\n",
    "# print(\"\\nDrop rows with any NaN values:\")\n",
    "df_clean"
   ]
  },
  {
   "cell_type": "code",
   "execution_count": 29,
   "metadata": {},
   "outputs": [],
   "source": [
    "review = df_clean['text']"
   ]
  },
  {
   "cell_type": "markdown",
   "metadata": {},
   "source": [
    "## Preprocessing\n",
    "Emoji processing; case folding; menghapus username, angka, dan tanda baca; koreksi ejaan dan singkatan serta menghapus whitespace; penghapusan stopwords, dan stemming."
   ]
  },
  {
   "cell_type": "code",
   "execution_count": 30,
   "metadata": {},
   "outputs": [],
   "source": [
    "import re\n",
    "# Daftar emoji berdasarkan sentimen\n",
    "emoji_positif = [\"😊\", \"😄\", \"♥\", \"😍\", \"😘\", \"😃\", \"😁\", \"😆\", \"😇\", \"☺\"]\n",
    "emoji_negatif = [\"😢\", \"😠\", \"😡\", \"😭\", \"😱\", \"😨\", \"😫\", \"😩\", \"😖\", \"😔\"]\n",
    "emoji_netral = [\"👍\", \"✨\", \"★\", \"█\", \"👌\", \"♫\", \"�\", \"©\", \"💬\", \"🔔\"]\n",
    "\n",
    "# Fungsi untuk mengganti emoji dengan label sentimen\n",
    "def ganti_emoji(teks):\n",
    "    for emoji in emoji_positif:\n",
    "        teks = teks.replace(emoji, \"positif\")\n",
    "    for emoji in emoji_negatif:\n",
    "        teks = teks.replace(emoji, \"negatif\")\n",
    "    for emoji in emoji_netral:\n",
    "        teks = teks.replace(emoji, \"netral\")\n",
    "    return teks\n",
    "\n",
    "teks = review.apply(ganti_emoji)"
   ]
  },
  {
   "cell_type": "code",
   "execution_count": 13,
   "metadata": {},
   "outputs": [
    {
     "name": "stderr",
     "output_type": "stream",
     "text": [
      "Downloading...\n",
      "From: https://drive.google.com/uc?id=1qqSuE1tuDCCfsdKgXMC3Nj0jda1LuWXB\n",
      "To: e:\\PROJECT\\Python-Pro\\sa-TripAdvisor\\stopwords_uci.txt\n",
      "100%|██████████| 6.91k/6.91k [00:00<00:00, 1.00MB/s]\n",
      "Downloading...\n",
      "From: https://drive.google.com/uc?id=1Ufurgc02rF2_yuFh8GNw1VOpkNbJLKWx\n",
      "To: e:\\PROJECT\\Python-Pro\\sa-TripAdvisor\\stopwords_nltk.txt\n",
      "100%|██████████| 7.39k/7.39k [00:00<00:00, 724kB/s]\n"
     ]
    }
   ],
   "source": [
    "import gdown\n",
    "# URL dari file Google Drive\n",
    "stopwords_uci_link = 'https://drive.google.com/uc?id=1qqSuE1tuDCCfsdKgXMC3Nj0jda1LuWXB'\n",
    "stopwords_nltk_link = 'https://drive.google.com/uc?id=1Ufurgc02rF2_yuFh8GNw1VOpkNbJLKWx'\n",
    "stopwords_uci_output = 'stopwords_uci.txt'\n",
    "stopwords_nltk_output = 'stopwords_nltk.txt'\n",
    "# Mengunduh file\n",
    "gdown.download(stopwords_uci_link, stopwords_uci_output, quiet=False)\n",
    "gdown.download(stopwords_nltk_link, stopwords_nltk_output, quiet=False)\n",
    "# Membaca konten file\n",
    "with open(stopwords_uci_output, 'r', encoding='utf-8') as file:\n",
    "    stopwords_uci = file.read()\n",
    "with open(stopwords_nltk_output, 'r', encoding='utf-8') as file:\n",
    "    stopwords_nltk = file.read()"
   ]
  },
  {
   "cell_type": "code",
   "execution_count": 25,
   "metadata": {},
   "outputs": [],
   "source": [
    "def preprocess(text):\n",
    "    # text preprocessing\n",
    "    teks = re.sub(r'[^a-zA-Z0-9\\s]', '', text)\n",
    "    teks = teks.lower()\n",
    "    stop_words = set(stopwords.words('english') + stopwords_uci.split('\\n') + stopwords_nltk.split('\\n'))\n",
    "    tokens = word_tokenize(teks)\n",
    "    filtered_tokens = [word for word in tokens if word.isalnum() and not any(char.isdigit() for char in word) and word not in stop_words]\n",
    "\n",
    "    stemmer_factory = StemmerFactory()\n",
    "    sastrawi_stemmer = stemmer_factory.create_stemmer()\n",
    "    lemmatizer = nltk.WordNetLemmatizer()\n",
    "    lemma = [lemmatizer.lemmatize(word) for word in filtered_tokens]\n",
    "    indonesian_stemmed_words = [sastrawi_stemmer.stem(word) for word in lemma]\n",
    "    clean_reviews = ' '.join(indonesian_stemmed_words)\n",
    "    return clean_reviews"
   ]
  },
  {
   "cell_type": "code",
   "execution_count": 36,
   "metadata": {},
   "outputs": [
    {
     "data": {
      "text/plain": [
       "0       tinggal sejarah umur indonesia bangsa indonesi...\n",
       "1       kali pergi pandemi candi borobudur protokol se...\n",
       "2       candi borobudur magelang yogyakarta salah reko...\n",
       "3       kali kesini pa sih ajaib dunia sulit bayang ba...\n",
       "4       candi borobudur wisata kenal dunia ganti sy wi...\n",
       "                              ...                        \n",
       "6738    place great probably everything expect however...\n",
       "6739    prambanan rara jonggrang javanese romanized ra...\n",
       "6740    temple worth price there much see poorly maint...\n",
       "6741    prambanan temple largest hindu temple ancient ...\n",
       "6742    best choice three mostfamous temple yogyakarta...\n",
       "Name: text, Length: 6743, dtype: object"
      ]
     },
     "execution_count": 36,
     "metadata": {},
     "output_type": "execute_result"
    }
   ],
   "source": [
    "teks = teks.apply(preprocess)\n",
    "teks"
   ]
  },
  {
   "cell_type": "markdown",
   "metadata": {},
   "source": [
    "## Ekstraksi Fitur\n",
    "words n-gram. words unigram+bigram+trigram untuk fiturnya dan vektornya diekstraksi dengan CountVectorizer dari pustaka Scikit-Learn"
   ]
  },
  {
   "cell_type": "code",
   "execution_count": 39,
   "metadata": {},
   "outputs": [
    {
     "name": "stdout",
     "output_type": "stream",
     "text": [
      "Daftar fitur (kata-kata) yang diekstraksi:\n",
      "['aaaa' 'aaaa let' 'aaaa let know' ... 'zuri' 'zuri malioboro'\n",
      " 'zuri malioboro langsung']\n",
      "Vektor representasi dari setiap kalimat:\n",
      "[[0 0 0 ... 0 0 0]\n",
      " [0 0 0 ... 0 0 0]\n",
      " [0 0 0 ... 0 0 0]\n",
      " ...\n",
      " [0 0 0 ... 0 0 0]\n",
      " [0 0 0 ... 0 0 0]\n",
      " [0 0 0 ... 0 0 0]]\n"
     ]
    }
   ],
   "source": [
    "# Menginisialisasi CountVectorizer dengan pengaturan untuk words unigram, bigram, dan trigram\n",
    "vectorizer = CountVectorizer(ngram_range=(1, 3))\n",
    "\n",
    "# Melakukan ekstraksi fitur pada data teks\n",
    "X = vectorizer.fit_transform(teks)\n",
    "\n",
    "# Mendapatkan daftar fitur (kata-kata) yang diekstraksi\n",
    "feature_names = vectorizer.get_feature_names_out()\n",
    "\n",
    "# Menampilkan hasil ekstraksi fitur\n",
    "print(\"Daftar fitur (kata-kata) yang diekstraksi:\")\n",
    "print(feature_names)\n",
    "\n",
    "# Menampilkan vektor representasi dari setiap kalimat\n",
    "print(\"Vektor representasi dari setiap kalimat:\")\n",
    "print(X.toarray())"
   ]
  },
  {
   "cell_type": "markdown",
   "metadata": {},
   "source": [
    "## Eksperimen"
   ]
  },
  {
   "cell_type": "markdown",
   "metadata": {},
   "source": [
    "### Analisis Sentimen Berbasis Aspek"
   ]
  },
  {
   "cell_type": "code",
   "execution_count": 40,
   "metadata": {},
   "outputs": [],
   "source": [
    "from sklearn.model_selection import train_test_split\n",
    "from sklearn.feature_extraction.text import CountVectorizer\n",
    "from sklearn.preprocessing import LabelEncoder\n",
    "from sklearn.utils import resample\n",
    "from nltk.corpus import stopwords\n",
    "from Sastrawi.Stemmer.StemmerFactory import StemmerFactory\n",
    "from sklearn.linear_model import LogisticRegression\n",
    "from sklearn.naive_bayes import MultinomialNB\n",
    "from sklearn.svm import SVC\n",
    "from sklearn.ensemble import RandomForestClassifier\n",
    "from sklearn.neighbors import KNeighborsClassifier\n",
    "from sklearn.metrics import classification_report"
   ]
  },
  {
   "cell_type": "code",
   "execution_count": null,
   "metadata": {},
   "outputs": [],
   "source": []
  },
  {
   "cell_type": "markdown",
   "metadata": {},
   "source": [
    "### Pemodelan Topik"
   ]
  },
  {
   "cell_type": "markdown",
   "metadata": {},
   "source": [
    "## Evaluasi"
   ]
  }
 ],
 "metadata": {
  "kernelspec": {
   "display_name": ".venv",
   "language": "python",
   "name": "python3"
  },
  "language_info": {
   "codemirror_mode": {
    "name": "ipython",
    "version": 3
   },
   "file_extension": ".py",
   "mimetype": "text/x-python",
   "name": "python",
   "nbconvert_exporter": "python",
   "pygments_lexer": "ipython3",
   "version": "3.11.9"
  }
 },
 "nbformat": 4,
 "nbformat_minor": 2
}
